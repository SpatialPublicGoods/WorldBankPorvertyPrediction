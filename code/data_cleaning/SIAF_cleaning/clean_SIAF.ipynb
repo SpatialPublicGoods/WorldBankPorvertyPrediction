{
 "cells": [
  {
   "cell_type": "code",
   "execution_count": 1,
   "metadata": {
    "vscode": {
     "languageId": "r"
    }
   },
   "outputs": [
    {
     "ename": "ERROR",
     "evalue": "Error in parse(text = x, srcfile = src): <text>:2:8: unexpected symbol\n1: # SIAF\n2: import os\n          ^\n",
     "output_type": "error",
     "traceback": [
      "Error in parse(text = x, srcfile = src): <text>:2:8: unexpected symbol\n1: # SIAF\n2: import os\n          ^\nTraceback:\n"
     ]
    }
   ],
   "source": [
    "# SIAF\n",
    "import os\n",
    "import pandas as pd\n",
    "\n",
    "\n",
    "\n",
    "\n",
    "#2010\n",
    "#df = pd.read_csv(r\"C:\\Users\\wb277714\\OneDrive - WBG\\Research\\Monitoring\\peru\\big_data\\admin\\SIAF\\SIAF\\2010-Gasto.csv\" ,  encoding='unicode_escape', low_memory=False)\n",
    "#df1=df[['DEPARTAMENTO_EJECUTORA','DEPARTAMENTO_EJECUTORA_NOMBRE','PROVINCIA_EJECUTORA','PROVINCIA_EJECUTORA_NOMBRE','DISTRITO_EJECUTORA','DISTRITO_EJECUTORA_NOMBRE','ANO_EJE','MES_EJE','NIVEL_GOBIERNO','NIVEL_GOBIERNO_NOMBRE','FUNCION_NOMBRE','CATEGORIA_GASTO_NOMBRE','MONTO_PIA','MONTO_PIM','MONTO_COMPROMETIDO','MONTO_DEVENGADO','MONTO_GIRADO']]\n",
    "#df1.to_csv(r\"C:\\Users\\wb277714\\OneDrive - WBG\\Research\\Monitoring\\peru\\big_data\\admin\\SIAF\\2010Gasto.csv\", sep=',', index=False, encoding='utf-8')\n",
    "\n",
    "#2011\n",
    "#df = pd.read_csv(r\"C:\\Users\\wb277714\\OneDrive - WBG\\Research\\Monitoring\\peru\\big_data\\admin\\SIAF\\SIAF\\2011-Gasto.csv\" ,  encoding='unicode_escape')\n",
    "#df1=df[['DEPARTAMENTO_EJECUTORA','DEPARTAMENTO_EJECUTORA_NOMBRE','PROVINCIA_EJECUTORA','PROVINCIA_EJECUTORA_NOMBRE','DISTRITO_EJECUTORA','DISTRITO_EJECUTORA_NOMBRE','ANO_EJE','MES_EJE','NIVEL_GOBIERNO','NIVEL_GOBIERNO_NOMBRE','FUNCION_NOMBRE','CATEGORIA_GASTO_NOMBRE','MONTO_PIA','MONTO_PIM','MONTO_COMPROMETIDO','MONTO_DEVENGADO','MONTO_GIRADO']]\n",
    "#df1.to_csv(r\"C:\\Users\\wb277714\\OneDrive - WBG\\Research\\Monitoring\\peru\\big_data\\admin\\SIAF\\2011Gasto.csv\", sep=',', index=False, encoding='utf-8')\n",
    "\n",
    "\n",
    "#2012\n",
    "#df = pd.read_csv(r\"C:\\Users\\wb277714\\OneDrive - WBG\\Research\\Monitoring\\peru\\big_data\\admin\\SIAF\\SIAF\\2012-Gasto.csv\" ,  encoding='unicode_escape')\n",
    "#df1=df[['DEPARTAMENTO_EJECUTORA','DEPARTAMENTO_EJECUTORA_NOMBRE','PROVINCIA_EJECUTORA','PROVINCIA_EJECUTORA_NOMBRE','DISTRITO_EJECUTORA','DISTRITO_EJECUTORA_NOMBRE','ANO_EJE','MES_EJE','NIVEL_GOBIERNO','NIVEL_GOBIERNO_NOMBRE','FUNCION_NOMBRE','CATEGORIA_GASTO_NOMBRE','MONTO_PIA','MONTO_PIM','MONTO_COMPROMETIDO','MONTO_DEVENGADO','MONTO_GIRADO']]\n",
    "#df1.to_csv(r\"C:\\Users\\wb277714\\OneDrive - WBG\\Research\\Monitoring\\peru\\big_data\\admin\\SIAF\\2012Gasto.csv\", sep=',', index=False, encoding='utf-8')\n",
    "\n",
    "\n",
    "#2013 \n",
    "#df = pd.read_csv(r\"C:\\Users\\wb277714\\OneDrive - WBG\\Research\\Monitoring\\peru\\big_data\\admin\\SIAF\\SIAF\\2013-Gasto.csv\" ,  encoding='unicode_escape')\n",
    "#df1=df[['DEPARTAMENTO_EJECUTORA','DEPARTAMENTO_EJECUTORA_NOMBRE','PROVINCIA_EJECUTORA','PROVINCIA_EJECUTORA_NOMBRE','DISTRITO_EJECUTORA','DISTRITO_EJECUTORA_NOMBRE','ANO_EJE','MES_EJE','NIVEL_GOBIERNO','NIVEL_GOBIERNO_NOMBRE','FUNCION_NOMBRE','CATEGORIA_GASTO_NOMBRE','MONTO_PIA','MONTO_PIM','MONTO_COMPROMETIDO','MONTO_DEVENGADO','MONTO_GIRADO']]\n",
    "#df1.to_csv(r\"C:\\Users\\wb277714\\OneDrive - WBG\\Research\\Monitoring\\peru\\big_data\\admin\\SIAF\\2013Gasto.csv\", sep=',', index=False, encoding='utf-8')\n",
    "\n",
    "\n",
    "#2014\n",
    "#df = pd.read_csv(r\"C:\\Users\\wb277714\\OneDrive - WBG\\Research\\Monitoring\\peru\\big_data\\admin\\SIAF\\SIAF\\2014-Gasto.csv\" ,  encoding='unicode_escape')\n",
    "#df1=df[['DEPARTAMENTO_EJECUTORA','DEPARTAMENTO_EJECUTORA_NOMBRE','PROVINCIA_EJECUTORA','PROVINCIA_EJECUTORA_NOMBRE','DISTRITO_EJECUTORA','DISTRITO_EJECUTORA_NOMBRE','ANO_EJE','MES_EJE','NIVEL_GOBIERNO','NIVEL_GOBIERNO_NOMBRE','FUNCION_NOMBRE','CATEGORIA_GASTO_NOMBRE','MONTO_PIA','MONTO_PIM','MONTO_COMPROMETIDO','MONTO_DEVENGADO','MONTO_GIRADO']]\n",
    "#df1.to_csv(r\"C:\\Users\\wb277714\\OneDrive - WBG\\Research\\Monitoring\\peru\\big_data\\admin\\SIAF\\2014Gasto.csv\", sep=',', index=False, encoding='utf-8')\n",
    "\n",
    "#2015\n",
    "#df = pd.read_csv(r\"C:\\Users\\wb277714\\OneDrive - WBG\\Research\\Monitoring\\peru\\big_data\\admin\\SIAF\\SIAF\\2015-Gasto.csv\" ,  encoding='unicode_escape')\n",
    "#df1=df[['DEPARTAMENTO_EJECUTORA','DEPARTAMENTO_EJECUTORA_NOMBRE','PROVINCIA_EJECUTORA','PROVINCIA_EJECUTORA_NOMBRE','DISTRITO_EJECUTORA','DISTRITO_EJECUTORA_NOMBRE','ANO_EJE','MES_EJE','NIVEL_GOBIERNO','NIVEL_GOBIERNO_NOMBRE','FUNCION_NOMBRE','CATEGORIA_GASTO_NOMBRE','MONTO_PIA','MONTO_PIM','MONTO_COMPROMETIDO','MONTO_DEVENGADO','MONTO_GIRADO']]\n",
    "#df1.to_csv(r\"C:\\Users\\wb277714\\OneDrive - WBG\\Research\\Monitoring\\peru\\big_data\\admin\\SIAF\\2015Gasto.csv\", sep=',', index=False, encoding='utf-8')\n",
    "\n",
    "#2016\n",
    "#df = pd.read_csv(r\"C:\\Users\\wb277714\\OneDrive - WBG\\Research\\Monitoring\\peru\\big_data\\admin\\SIAF\\SIAF\\2016-Gasto.csv\" ,  encoding='unicode_escape')\n",
    "#df1=df[['DEPARTAMENTO_EJECUTORA','DEPARTAMENTO_EJECUTORA_NOMBRE','PROVINCIA_EJECUTORA','PROVINCIA_EJECUTORA_NOMBRE','DISTRITO_EJECUTORA','DISTRITO_EJECUTORA_NOMBRE','ANO_EJE','MES_EJE','NIVEL_GOBIERNO','NIVEL_GOBIERNO_NOMBRE','FUNCION_NOMBRE','CATEGORIA_GASTO_NOMBRE','MONTO_PIA','MONTO_PIM','MONTO_COMPROMETIDO','MONTO_DEVENGADO','MONTO_GIRADO']]\n",
    "#df1.to_csv(r\"C:\\Users\\wb277714\\OneDrive - WBG\\Research\\Monitoring\\peru\\big_data\\admin\\SIAF\\2016Gasto.csv\", sep=',', index=False, encoding='utf-8')\n",
    "\n",
    "\n",
    "#2017\n",
    "#df = pd.read_csv(r\"C:\\Users\\wb277714\\OneDrive - WBG\\Research\\Monitoring\\peru\\big_data\\admin\\SIAF\\SIAF\\2017-Gasto.csv\" ,  encoding='unicode_escape')\n",
    "#df1=df[['DEPARTAMENTO_EJECUTORA','DEPARTAMENTO_EJECUTORA_NOMBRE','PROVINCIA_EJECUTORA','PROVINCIA_EJECUTORA_NOMBRE','DISTRITO_EJECUTORA','DISTRITO_EJECUTORA_NOMBRE','ANO_EJE','MES_EJE','NIVEL_GOBIERNO','NIVEL_GOBIERNO_NOMBRE','FUNCION_NOMBRE','CATEGORIA_GASTO_NOMBRE','MONTO_PIA','MONTO_PIM','MONTO_COMPROMETIDO','MONTO_DEVENGADO','MONTO_GIRADO']]\n",
    "#df1.to_csv(r\"C:\\Users\\wb277714\\OneDrive - WBG\\Research\\Monitoring\\peru\\big_data\\admin\\SIAF\\2017Gasto.csv\", sep=',', index=False, encoding='utf-8')\n",
    "\n",
    "\n",
    "#2018\n",
    "#df = pd.read_csv(r\"C:\\Users\\wb277714\\OneDrive - WBG\\Research\\Monitoring\\peru\\big_data\\admin\\SIAF\\SIAF\\2018-Gasto.csv\" ,  encoding='unicode_escape')\n",
    "#df1=df[['DEPARTAMENTO_EJECUTORA','DEPARTAMENTO_EJECUTORA_NOMBRE','PROVINCIA_EJECUTORA','PROVINCIA_EJECUTORA_NOMBRE','DISTRITO_EJECUTORA','DISTRITO_EJECUTORA_NOMBRE','ANO_EJE','MES_EJE','NIVEL_GOBIERNO','NIVEL_GOBIERNO_NOMBRE','FUNCION_NOMBRE','CATEGORIA_GASTO_NOMBRE','MONTO_PIA','MONTO_PIM','MONTO_COMPROMETIDO','MONTO_DEVENGADO','MONTO_GIRADO']]\n",
    "#df1.to_csv(r\"C:\\Users\\wb277714\\OneDrive - WBG\\Research\\Monitoring\\peru\\big_data\\admin\\SIAF\\2018Gasto.csv\", sep=',', index=False, encoding='utf-8')\n",
    "\n",
    "\n",
    "#2019\n",
    "#df = pd.read_csv(r\"C:\\Users\\wb277714\\OneDrive - WBG\\Research\\Monitoring\\peru\\big_data\\admin\\SIAF\\SIAF\\2019-Gasto.csv\" ,  encoding='unicode_escape')\n",
    "#df1=df[['DEPARTAMENTO_EJECUTORA','DEPARTAMENTO_EJECUTORA_NOMBRE','PROVINCIA_EJECUTORA','PROVINCIA_EJECUTORA_NOMBRE','DISTRITO_EJECUTORA','DISTRITO_EJECUTORA_NOMBRE','ANO_EJE','MES_EJE','NIVEL_GOBIERNO','NIVEL_GOBIERNO_NOMBRE','FUNCION_NOMBRE','CATEGORIA_GASTO_NOMBRE','MONTO_PIA','MONTO_PIM','MONTO_COMPROMETIDO','MONTO_DEVENGADO','MONTO_GIRADO']]\n",
    "#df1.to_csv(r\"C:\\Users\\wb277714\\OneDrive - WBG\\Research\\Monitoring\\peru\\big_data\\admin\\SIAF\\2019Gasto.csv\", sep=',', index=False, encoding='utf-8')\n",
    "\n",
    "#2020\n",
    "#df = pd.read_csv(r\"C:\\Users\\wb277714\\OneDrive - WBG\\Research\\Monitoring\\peru\\big_data\\admin\\SIAF\\SIAF\\2020-Gasto.csv\" ,  encoding='unicode_escape')\n",
    "#df1=df[['DEPARTAMENTO_EJECUTORA','DEPARTAMENTO_EJECUTORA_NOMBRE','PROVINCIA_EJECUTORA','PROVINCIA_EJECUTORA_NOMBRE','DISTRITO_EJECUTORA','DISTRITO_EJECUTORA_NOMBRE','ANO_EJE','MES_EJE','NIVEL_GOBIERNO','NIVEL_GOBIERNO_NOMBRE','FUNCION_NOMBRE','CATEGORIA_GASTO_NOMBRE','MONTO_PIA','MONTO_PIM','MONTO_COMPROMETIDO','MONTO_DEVENGADO','MONTO_GIRADO']]\n",
    "#df1.to_csv(r\"C:\\Users\\wb277714\\OneDrive - WBG\\Research\\Monitoring\\peru\\big_data\\admin\\SIAF\\2020Gasto.csv\", sep=',', index=False, encoding='utf-8')\n",
    "\n",
    "#2021\n",
    "#df = pd.read_csv(r\"C:\\Users\\wb277714\\OneDrive - WBG\\Research\\Monitoring\\peru\\big_data\\admin\\SIAF\\SIAF\\2021-Gasto.csv\" ,  encoding='unicode_escape')\n",
    "#df1=df[['DEPARTAMENTO_EJECUTORA','DEPARTAMENTO_EJECUTORA_NOMBRE','PROVINCIA_EJECUTORA','PROVINCIA_EJECUTORA_NOMBRE','DISTRITO_EJECUTORA','DISTRITO_EJECUTORA_NOMBRE','ANO_EJE','MES_EJE','NIVEL_GOBIERNO','NIVEL_GOBIERNO_NOMBRE','FUNCION_NOMBRE','CATEGORIA_GASTO_NOMBRE','MONTO_PIA','MONTO_PIM','MONTO_COMPROMETIDO','MONTO_DEVENGADO','MONTO_GIRADO']]\n",
    "#df1.to_csv(r\"C:\\Users\\wb277714\\OneDrive - WBG\\Research\\Monitoring\\peru\\big_data\\admin\\SIAF\\2021Gasto.csv\", sep=',', index=False, encoding='utf-8')\n",
    "\n",
    "\n",
    "\n",
    "\n",
    "###### Ingreso data\n",
    "\n",
    "#2010\n",
    "#df = pd.read_csv(r\"C:\\Users\\wb277714\\OneDrive - WBG\\Research\\Monitoring\\peru\\big_data\\admin\\SIAF\\SIAF\\2010-Ingreso.csv\" ,  encoding='unicode_escape', low_memory=False)\n",
    "#df1=df[[]]\n",
    "#df1.to_csv(r\"C:\\Users\\wb277714\\OneDrive - WBG\\Research\\Monitoring\\peru\\big_data\\admin\\SIAF\\2010Ingreso.csv\", sep=',', index=False, encoding='utf-8')\n",
    "\n",
    "\n"
   ]
  }
 ],
 "metadata": {
  "kernelspec": {
   "display_name": "R",
   "language": "R",
   "name": "ir"
  },
  "language_info": {
   "codemirror_mode": "r",
   "file_extension": ".r",
   "mimetype": "text/x-r-source",
   "name": "R",
   "pygments_lexer": "r",
   "version": "3.6.1"
  },
  "orig_nbformat": 4
 },
 "nbformat": 4,
 "nbformat_minor": 2
}
